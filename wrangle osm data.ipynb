{
 "cells": [
  {
   "cell_type": "markdown",
   "metadata": {},
   "source": [
    "# OpenStreetMap Data Case Study"
   ]
  },
  {
   "cell_type": "markdown",
   "metadata": {},
   "source": [
    "## 1.Map Area"
   ]
  },
  {
   "cell_type": "markdown",
   "metadata": {},
   "source": [
    "brooklyn, New York, United States\n",
    "\n",
    "https://mapzen.com/data/metro-extracts/metro/brooklyn_new-york/\n",
    "\n",
    "The data is extracted from the website above. This is where I am currently live. I am interested to see what what database can reveal."
   ]
  },
  {
   "cell_type": "markdown",
   "metadata": {},
   "source": [
    "## 2.Parse Data"
   ]
  },
  {
   "cell_type": "markdown",
   "metadata": {},
   "source": [
    "### 2.1 Problems encountered in your map "
   ]
  },
  {
   "cell_type": "markdown",
   "metadata": {},
   "source": [
    "#### 2.1.1 Phone number"
   ]
  },
  {
   "cell_type": "markdown",
   "metadata": {},
   "source": [
    "There are many different forms of phone number, such as:\n",
    "\n",
    "+1 (718) 250-0200; \n",
    "+1-718-875-0042; \n",
    "+1 718 789-7050; \n",
    "1 718 363 7828; \n",
    "718 363 7828;\n",
    "\n",
    "I change them into the form like: +1 7183637828"
   ]
  },
  {
   "cell_type": "code",
   "execution_count": 1,
   "metadata": {
    "collapsed": true
   },
   "outputs": [],
   "source": [
    "import re\n",
    "def update_telephone_form(telephone):\n",
    "    # The regex matches telephone numbers in this forma:+#-(###)-###-####,###-###-####,+1-###-###-####...\n",
    "    telephone_patten=re.compile(r'(.*)+(\\d\\d\\d)+(.*)+(\\d\\d\\d)+(.*)+(\\d\\d\\d\\d)')\n",
    "    # The following statement modifies the telephone number as +1 ##########\n",
    "    return telephone_patten.sub(lambda m: '+1 '+m.group(2)+m.group(4)+m.group(6),telephone)"
   ]
  },
  {
   "cell_type": "markdown",
   "metadata": {},
   "source": [
    "#### 2.1.2 Street Name"
   ]
  },
  {
   "cell_type": "markdown",
   "metadata": {},
   "source": [
    "Some street use abbreviation, like: St\n",
    "\n",
    "Change the abbreviations to the normal words, like Street\n",
    "\n",
    "St->Street"
   ]
  },
  {
   "cell_type": "code",
   "execution_count": 2,
   "metadata": {
    "collapsed": false
   },
   "outputs": [],
   "source": [
    "street_type_re = re.compile(r'\\b\\S+\\.?$', re.IGNORECASE)\n",
    "mapping = { \"St\": \"Street\",\n",
    "            \"St.\": \"Street\",\n",
    "            \"Rd\": \"Rode\",\n",
    "            \"Ave\":\"Avenue\",\n",
    "            \"Rd.\": \"Road\"\n",
    "            }\n",
    "#Change the abbreviations words: st->Street\n",
    "def update_name(name, mapping):\n",
    "    m = street_type_re.search(name)\n",
    "    if m:\n",
    "        street_type = m.group()\n",
    "        if street_type in mapping:\n",
    "            name=re.sub(street_type_re,mapping[street_type],name)\n",
    "    return name"
   ]
  },
  {
   "cell_type": "markdown",
   "metadata": {},
   "source": [
    "### 2.2 Overview of data "
   ]
  },
  {
   "cell_type": "markdown",
   "metadata": {},
   "source": [
    "#### 2.2.1 Count tags"
   ]
  },
  {
   "cell_type": "markdown",
   "metadata": {},
   "source": [
    "The basic elements of OpenStreetMap's data model are consist of:\n",
    "\n",
    "nodes (defining points in space)\n",
    "\n",
    "ways (defining linear features and area boundaries)\n",
    "\n",
    "relations (which are sometimes used to explain how other elements work together)\n",
    "\n",
    "All of the above can have one or more associated tags (which describe the meaning of a particular element)\n",
    "                                                                                                       "
   ]
  },
  {
   "cell_type": "code",
   "execution_count": 3,
   "metadata": {
    "collapsed": true
   },
   "outputs": [],
   "source": [
    "import csv\n",
    "import codecs\n",
    "import re\n",
    "import xml.etree.cElementTree as ET"
   ]
  },
  {
   "cell_type": "code",
   "execution_count": 3,
   "metadata": {
    "collapsed": false
   },
   "outputs": [
    {
     "name": "stdout",
     "output_type": "stream",
     "text": [
      "{'node': 2485165, 'nd': 3495604, 'bounds': 1, 'member': 14569, 'tag': 2820491, 'relation': 1704, 'way': 490438, 'osm': 1}\n"
     ]
    }
   ],
   "source": [
    "def count_tags(filename):\n",
    "    tags={}\n",
    "    context=ET.iterparse(filename)\n",
    "    context=iter(context)\n",
    "    for event,element in context:\n",
    "        if element.tag not in tags:\n",
    "            tags[element.tag]=1\n",
    "        else:\n",
    "            tags[element.tag]+=1\n",
    "    return tags\n",
    "print count_tags('brooklyn_new-york.osm')"
   ]
  },
  {
   "cell_type": "markdown",
   "metadata": {},
   "source": [
    "#### 2.2.2 Parse data to csv and sql"
   ]
  },
  {
   "cell_type": "markdown",
   "metadata": {},
   "source": [
    "Parse data to csv and sql table, the csv files and sql tables are listed below:\n",
    "\n",
    "   element       file             table\n",
    "    \n",
    "    node       node.csv           node\n",
    "    \n",
    "  node tags    node_tags.csv    node_tags\n",
    "  \n",
    "    way         way.csv           way\n",
    "    \n",
    "  way node     way_node.csv      way_node\n",
    "  \n",
    "  way tags    way_tag.csv       way_tags\n",
    "  \n",
    "  \n",
    "The size of files:\n",
    "\n",
    "             brooklyn_new-york.osm       666.1Mb\n",
    "\n",
    "             node.csv                    232 Mb\n",
    "\n",
    "             node_tags.csv               8.3 Mb\n",
    "\n",
    "             way.csv                     33 Mb\n",
    "\n",
    "             way_node.csv                83.4 Mb\n",
    "\n",
    "             way_tag.csv                 82.6 Mb\n",
    "             \n",
    "             map                         405.6 Mb"
   ]
  },
  {
   "cell_type": "markdown",
   "metadata": {},
   "source": [
    "For details about the code of converting osm to csv and sql files, please see to_csv_and_sql.html"
   ]
  },
  {
   "cell_type": "markdown",
   "metadata": {},
   "source": [
    "#### 2.2.2 Overview of the data"
   ]
  },
  {
   "cell_type": "markdown",
   "metadata": {},
   "source": [
    "Number of unique users in node is 1197\n",
    "\n",
    "Number of unique users in way is 956\n",
    "\n",
    "Number of total unique users is 1398."
   ]
  },
  {
   "cell_type": "code",
   "execution_count": 2,
   "metadata": {
    "collapsed": false
   },
   "outputs": [
    {
     "name": "stdout",
     "output_type": "stream",
     "text": [
      "[(1197,)]\n"
     ]
    }
   ],
   "source": [
    "# Number of unique users in node\n",
    "import sqlite3\n",
    "node_tag = sqlite3.connect(\"map\")\n",
    "c = node_tag.cursor()\n",
    "c.execute('Select count(user) from (select user,count(user) from node group by user)')\n",
    "results= c.fetchall()\n",
    "print results"
   ]
  },
  {
   "cell_type": "code",
   "execution_count": 4,
   "metadata": {
    "collapsed": false
   },
   "outputs": [
    {
     "name": "stdout",
     "output_type": "stream",
     "text": [
      "[(856,)]\n"
     ]
    }
   ],
   "source": [
    "# Number of unique users in way\n",
    "import sqlite3\n",
    "node_tag = sqlite3.connect(\"map\")\n",
    "c = node_tag.cursor()\n",
    "c.execute('Select count(user) from (select user,count(user) from way group by user)')\n",
    "results= c.fetchall()\n",
    "print results"
   ]
  },
  {
   "cell_type": "code",
   "execution_count": 10,
   "metadata": {
    "collapsed": false
   },
   "outputs": [
    {
     "name": "stdout",
     "output_type": "stream",
     "text": [
      "[(1398,)]\n"
     ]
    }
   ],
   "source": [
    "# Number of total unique user\n",
    "import sqlite3\n",
    "node_tag = sqlite3.connect(\"map\")\n",
    "c = node_tag.cursor()\n",
    "c.execute('''Select count(uid) from \n",
    "(select uid from node group by uid \n",
    "UNION\n",
    "select uid from way group by uid)''')\n",
    "results= c.fetchall()\n",
    "print results"
   ]
  },
  {
   "cell_type": "markdown",
   "metadata": {},
   "source": [
    "Number of nodes is: 2485165\n",
    "\n",
    "Number of ways is: 490438"
   ]
  },
  {
   "cell_type": "code",
   "execution_count": 11,
   "metadata": {
    "collapsed": false
   },
   "outputs": [
    {
     "name": "stdout",
     "output_type": "stream",
     "text": [
      "[(2485165,)]\n"
     ]
    }
   ],
   "source": [
    "# Number of nodes \n",
    "import sqlite3\n",
    "node_tag = sqlite3.connect(\"map\")\n",
    "c = node_tag.cursor()\n",
    "c.execute('Select count(id) from (select id,count(id) from node group by id)')\n",
    "results= c.fetchall()\n",
    "print results"
   ]
  },
  {
   "cell_type": "code",
   "execution_count": 10,
   "metadata": {
    "collapsed": false
   },
   "outputs": [
    {
     "name": "stdout",
     "output_type": "stream",
     "text": [
      "[(490438,)]\n"
     ]
    }
   ],
   "source": [
    "# Number of ways \n",
    "import sqlite3\n",
    "node_tag = sqlite3.connect(\"map\")\n",
    "c = node_tag.cursor()\n",
    "c.execute('Select count(id) from (select id,count(id) from way group by id)')\n",
    "results= c.fetchall()\n",
    "print results"
   ]
  },
  {
   "cell_type": "markdown",
   "metadata": {},
   "source": [
    "Number of types of nodes: 36\n",
    "\n",
    "The types are like: addr,drink,crossing..."
   ]
  },
  {
   "cell_type": "code",
   "execution_count": 12,
   "metadata": {
    "collapsed": false
   },
   "outputs": [
    {
     "name": "stdout",
     "output_type": "stream",
     "text": [
      "[(36,)]\n"
     ]
    }
   ],
   "source": [
    "#Number of types of nodes\n",
    "import sqlite3\n",
    "node_tag = sqlite3.connect(\"map\")\n",
    "c = node_tag.cursor()\n",
    "c.execute('''Select count(type) from \n",
    "(select type from node_tag group by type)''')\n",
    "results= c.fetchall()\n",
    "print results"
   ]
  },
  {
   "cell_type": "code",
   "execution_count": 13,
   "metadata": {
    "collapsed": false
   },
   "outputs": [
    {
     "name": "stdout",
     "output_type": "stream",
     "text": [
      "[(u'abandoned',), (u'addr',), (u'building',), (u'contact',), (u'crossing',), (u'description',), (u'diet',), (u'disused',), (u'drink',), (u'exit_to',)]\n"
     ]
    }
   ],
   "source": [
    "# Example types \n",
    "import sqlite3\n",
    "node_tag = sqlite3.connect(\"map\")\n",
    "c = node_tag.cursor()\n",
    "c.execute('''select type from node_tag group by type limit 10''')\n",
    "results= c.fetchall()\n",
    "print results"
   ]
  },
  {
   "cell_type": "markdown",
   "metadata": {},
   "source": [
    "Top ten attributing users:"
   ]
  },
  {
   "cell_type": "code",
   "execution_count": 4,
   "metadata": {
    "collapsed": false
   },
   "outputs": [
    {
     "name": "stdout",
     "output_type": "stream",
     "text": [
      "[(u'Rub21_nycbuildings', 1740371), (u'ingalls_nycbuildings', 373554), (u'ediyes_nycbuildings', 189694), (u'celosia_nycbuildings', 117361), (u'ingalls', 105358), (u'lxbarth_nycbuildings', 79851), (u'aaron_nycbuildings', 42023), (u'ewedistrict_nycbuildings', 35002), (u'smlevine', 25054), (u'robgeb', 23684)]\n"
     ]
    }
   ],
   "source": [
    "# Top ten attributing users\n",
    "import sqlite3\n",
    "node_tag = sqlite3.connect(\"map\")\n",
    "c = node_tag.cursor()\n",
    "c.execute('''select user,count(id) from \n",
    "          (select uid,id,user from node group by id UNION select uid,id,user from way group by id) e\n",
    "          group by e.uid order by count(id) desc limit 10''')\n",
    "results= c.fetchall()\n",
    "print results"
   ]
  },
  {
   "cell_type": "code",
   "execution_count": 5,
   "metadata": {
    "collapsed": false,
    "scrolled": true
   },
   "outputs": [
    {
     "name": "stdout",
     "output_type": "stream",
     "text": [
      "                  user name  nodes attributed\n",
      "0        Rub21_nycbuildings           1740371\n",
      "1      ingalls_nycbuildings            373554\n",
      "2       ediyes_nycbuildings            189694\n",
      "3      celosia_nycbuildings            117361\n",
      "4                   ingalls            105358\n",
      "5      lxbarth_nycbuildings             79851\n",
      "6        aaron_nycbuildings             42023\n",
      "7  ewedistrict_nycbuildings             35002\n",
      "8                  smlevine             25054\n",
      "9                    robgeb             23684\n"
     ]
    }
   ],
   "source": [
    "import pandas as pd\n",
    "re=pd.DataFrame(results,columns=['user name','nodes attributed'])\n",
    "print re"
   ]
  },
  {
   "cell_type": "markdown",
   "metadata": {},
   "source": [
    "395 users are appearing only once."
   ]
  },
  {
   "cell_type": "code",
   "execution_count": 26,
   "metadata": {
    "collapsed": false
   },
   "outputs": [
    {
     "name": "stdout",
     "output_type": "stream",
     "text": [
      "[(395,)]\n"
     ]
    }
   ],
   "source": [
    "# Number of users appearing only once\n",
    "import sqlite3\n",
    "node_tag = sqlite3.connect(\"map\")\n",
    "c = node_tag.cursor()\n",
    "c.execute('''select count(usera) from (select user as usera from \n",
    "          (select uid,id,user from node group by id UNION All select uid,id,user from way group by id) e\n",
    "          group by e.user having count(user)==1 )''')\n",
    "results= c.fetchall()\n",
    "print results"
   ]
  },
  {
   "cell_type": "markdown",
   "metadata": {},
   "source": [
    " How many cities in this area?"
   ]
  },
  {
   "cell_type": "code",
   "execution_count": 10,
   "metadata": {
    "collapsed": false
   },
   "outputs": [
    {
     "name": "stdout",
     "output_type": "stream",
     "text": [
      "[(u'Brookklyn',), (u'Brooklyn',), (u'Brooklyn ',), (u'Brooklyn, NY',), (u'Corona',), (u'Elmhurst',), (u'Forest Hills',), (u'Glendale',), (u'Glendale, NY',), (u'Hoboken',), (u'Jamaica',), (u'Jersey City',), (u'M',), (u'Maspeth',), (u'Middle Village',), (u'NEW YORK CITY',), (u'New York',), (u'New York City',), (u'Queens',), (u'Rego Park',), (u'Ridgewood',), (u'Rockaway Park',), (u'Waterbury',), (u'Woodside',), (u'brooklyn',), (u'new york',)]\n"
     ]
    }
   ],
   "source": [
    "import sqlite3\n",
    "node_tag = sqlite3.connect(\"map\")\n",
    "c = node_tag.cursor()\n",
    "c.execute('select value from way_tag where key=\"city\" and type=\"addr\" group by value')\n",
    "results= c.fetchall()\n",
    "print results"
   ]
  },
  {
   "cell_type": "markdown",
   "metadata": {},
   "source": [
    "From here we can find that the same city maybe expressed in different ways like 'Brookklyn','Brooklyn','Brooklyn ''Brooklyn, NY', 'Brooklyn, NY'. It will be better if the expression is same."
   ]
  },
  {
   "cell_type": "markdown",
   "metadata": {},
   "source": [
    "Different types of amenities:"
   ]
  },
  {
   "cell_type": "code",
   "execution_count": 15,
   "metadata": {
    "collapsed": false
   },
   "outputs": [
    {
     "name": "stdout",
     "output_type": "stream",
     "text": [
      "[(u'bicycle_parking', 2809), (u'restaurant', 856), (u'place_of_worship', 364), (u'school', 358), (u'cafe', 287), (u'bench', 262), (u'bicycle_rental', 261), (u'bar', 176), (u'fast_food', 174), (u'fire_station', 119), (u'bank', 109), (u'pharmacy', 91), (u'toilets', 72), (u'pub', 67), (u'post_box', 61), (u'drinking_water', 55), (u'fuel', 46), (u'parking', 44), (u'atm', 32), (u'hospital', 31), (u'post_office', 28), (u'grave_yard', 26), (u'ferry_terminal', 23), (u'library', 23), (u'theatre', 23), (u'waste_basket', 21), (u'fountain', 20), (u'police', 18), (u'car_sharing', 15), (u'bbq', 12), (u'cinema', 12), (u'marketplace', 11), (u'nightclub', 11), (u'telephone', 10), (u'university', 10), (u'doctors', 9), (u'ice_cream', 8), (u'taxi', 8), (u'college', 7), (u'community_centre', 7), (u'biergarten', 5), (u'childcare', 5), (u'courthouse', 5), (u'dentist', 5), (u'townhall', 5), (u'arts_centre', 4), (u'bicycle_repair_station', 4), (u'car_rental', 4), (u'recycling', 4), (u'clinic', 3), (u'kindergarten', 3), (u'veterinary', 3), (u'waste_disposal', 3), (u'clothing store', 2), (u'dojo', 2), (u'gym', 2), (u'parking_entrance', 2), (u'public_building', 2), (u'studio', 2), (u'swimming_pool', 2), (u'vending_machine', 2), (u'Green_Market', 1), (u'bureau_de_change', 1), (u'bus_station', 1), (u'car_wash', 1), (u'clock', 1), (u'coworking_space', 1), (u'embassy', 1), (u'fitness_center', 1), (u'laundry', 1), (u'motorcycle_parking', 1), (u'music_venue', 1), (u'nail_salon', 1), (u'payment_center', 1), (u'prison', 1), (u'shelter', 1), (u'spa', 1), (u'stripclub', 1), (u'wifi', 1)]\n"
     ]
    }
   ],
   "source": [
    "node_tag = sqlite3.connect(\"map\")\n",
    "c = node_tag.cursor()\n",
    "c.execute('Select value,count(value) from node_tag where key=\"amenity\" group by value order by count(value) desc')\n",
    "results= c.fetchall()\n",
    "print results"
   ]
  },
  {
   "cell_type": "code",
   "execution_count": 19,
   "metadata": {
    "collapsed": false
   },
   "outputs": [
    {
     "name": "stdout",
     "output_type": "stream",
     "text": [
      "              value  count\n",
      "0   bicycle_parking   2809\n",
      "1        restaurant    856\n",
      "2  place_of_worship    364\n",
      "3            school    358\n",
      "4              cafe    287\n",
      "5             bench    262\n",
      "6    bicycle_rental    261\n",
      "7               bar    176\n"
     ]
    }
   ],
   "source": [
    "import pandas as pd\n",
    "re=pd.DataFrame(results,columns=['value','count'])\n",
    "print re.head(8)"
   ]
  },
  {
   "cell_type": "markdown",
   "metadata": {},
   "source": [
    "What kind of information can we get from resturant"
   ]
  },
  {
   "cell_type": "code",
   "execution_count": 21,
   "metadata": {
    "collapsed": false
   },
   "outputs": [
    {
     "name": "stdout",
     "output_type": "stream",
     "text": [
      "[(380044344,), (447943157,)]\n"
     ]
    }
   ],
   "source": [
    "node_tag = sqlite3.connect(\"map\")\n",
    "c = node_tag.cursor()\n",
    "c.execute('select id from node_tag where value=\"restaurant\" limit 2')\n",
    "results= c.fetchall()\n",
    "print results"
   ]
  },
  {
   "cell_type": "code",
   "execution_count": 23,
   "metadata": {
    "collapsed": false
   },
   "outputs": [
    {
     "name": "stdout",
     "output_type": "stream",
     "text": [
      "[(u'regular', u\"Pedro's\", u'name'), (u'regular', u'restaurant', u'amenity'), (u'regular', u'mexican', u'cuisine'), (u'regular', u'http://www.pedrosdumbo.net/', u'website'), (u'regular', u\"Pedro's\", u'name'), (u'regular', u'restaurant', u'amenity'), (u'regular', u'mexican', u'cuisine'), (u'regular', u'http://www.pedrosdumbo.net/', u'website')]\n"
     ]
    }
   ],
   "source": [
    "node_tag = sqlite3.connect(\"map\")\n",
    "c = node_tag.cursor()\n",
    "c.execute('select type,value,key from node_tag where id=\"380044344\"')\n",
    "results= c.fetchall()\n",
    "print results"
   ]
  },
  {
   "cell_type": "code",
   "execution_count": 24,
   "metadata": {
    "collapsed": false
   },
   "outputs": [
    {
     "name": "stdout",
     "output_type": "stream",
     "text": [
      "[(u'regular', u'Peanut Butter & Co', u'name'), (u'regular', u'restaurant', u'amenity'), (u'regular', u'sandwich', u'cuisine'), (u'regular', u'Peanut Butter & Co', u'name'), (u'regular', u'restaurant', u'amenity'), (u'regular', u'sandwich', u'cuisine')]\n"
     ]
    }
   ],
   "source": [
    "node_tag = sqlite3.connect(\"map\")\n",
    "c = node_tag.cursor()\n",
    "c.execute('select type,value,key from node_tag where id=\"447943157\"')\n",
    "results= c.fetchall()\n",
    "print results"
   ]
  },
  {
   "cell_type": "markdown",
   "metadata": {},
   "source": [
    "From this we can see that the keys sometimes are repeated. And the information of the is not completed."
   ]
  },
  {
   "cell_type": "markdown",
   "metadata": {},
   "source": [
    "## 3.Other ideas about the datasets"
   ]
  },
  {
   "cell_type": "markdown",
   "metadata": {},
   "source": [
    "Problems:\n",
    "\n",
    "1.The number of unique attributing users is only 1398, which is quite small comparing to the population living in brooklyn.\n",
    "2.The information(tags) about the node are not enough.\n",
    "3.The tags are in different forms(for example the telephone number) which makes tags hard to analyze.\n",
    "\n",
    "Suggestion:\n",
    "\n",
    "1.Post some advertisement and some rewards may be given to the people who attribute to the map\n",
    "2.Some third party tools like Google Maps may be used to improve the data.\n",
    "3.When user update tags, suggest them to put the data in a standard form. For example: when people make a tag of phone number, suggest them to put it into the form like: +1 ##########(don't use +1(###)-###-#### or other form).\n",
    "\n",
    "Benifit of the suggestion:\n",
    "1.More people are involved in developing the database so we can have more information.\n",
    "2.The data are performed in a uniform way, which makes it easy to clean and analyze data.\n",
    "\n",
    "Problems:\n",
    "Some economic problems may occur."
   ]
  }
 ],
 "metadata": {
  "anaconda-cloud": {},
  "kernelspec": {
   "display_name": "Python [Root]",
   "language": "python",
   "name": "Python [Root]"
  },
  "language_info": {
   "codemirror_mode": {
    "name": "ipython",
    "version": 2
   },
   "file_extension": ".py",
   "mimetype": "text/x-python",
   "name": "python",
   "nbconvert_exporter": "python",
   "pygments_lexer": "ipython2",
   "version": "2.7.12"
  }
 },
 "nbformat": 4,
 "nbformat_minor": 0
}
